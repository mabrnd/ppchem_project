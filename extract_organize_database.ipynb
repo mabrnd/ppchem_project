{
 "cells": [
  {
   "cell_type": "code",
   "execution_count": 5,
   "id": "86aed095-6f07-4ac9-9a6c-d9fc653e8234",
   "metadata": {},
   "outputs": [],
   "source": [
    "# Objectif : extraire les informations qui nous intéressent (ingrédients en français et anglais, code barre) d'une base de donnée sous forme d'un fichier csv\n",
    "import pandas as pd\n",
    "\n",
    "# Charger le fichier CSV\n",
    "df = pd.read_csv(\"database_products.csv\", sep='\\t')\n",
    "\n",
    "# Sélectionner les colonnes requises\n",
    "df_subset = df[[\"code\", \"producer_version_id\", \"ingredients_text_fr\",\"ingredients_text_en\",\"product_name_fr\",\"product_name_en\"]]\n",
    "\n",
    "# Enregistrer le nouveau DataFrame dans un nouveau fichier CSV\n",
    "df_subset.to_csv(\"extraction_database_fren.csv\", index=False)\n"
   ]
  },
  {
   "cell_type": "code",
   "execution_count": 6,
   "id": "c1b17d93-9291-4cd4-bb12-4825ebc9bebe",
   "metadata": {},
   "outputs": [
    {
     "name": "stdout",
     "output_type": "stream",
     "text": [
      "Nombre total de lignes dans le fichier final : 825\n"
     ]
    }
   ],
   "source": [
    "# Objectif : Classer les données obtenues (supprimer les produits ne contentant pas de liste d'ingrédients)\n",
    "\n",
    "import csv\n",
    "\n",
    "def supprimer_lignes_vides(input_file, output_file):\n",
    "    with open(input_file, 'r', encoding='utf-8') as file_in, \\\n",
    "         open(output_file, 'w', newline='', encoding='utf-8') as file_out:\n",
    "        \n",
    "        reader = csv.DictReader(file_in)\n",
    "        fieldnames = reader.fieldnames\n",
    "        \n",
    "        writer = csv.DictWriter(file_out, fieldnames=fieldnames)\n",
    "        writer.writeheader()\n",
    "        \n",
    "        total_lignes = 0  # Initialiser le compteur\n",
    "        \n",
    "        for row in reader:\n",
    "            # Vérifier si les colonnes 'ingredients_text_fr' et 'ingredients_text_en' sont vides\n",
    "            if row.get('ingredients_text_fr') or row.get('ingredients_text_en'):\n",
    "                writer.writerow(row)\n",
    "                total_lignes += 1  # Incrémenter le compteur\n",
    "        \n",
    "        return total_lignes\n",
    "\n",
    "input_file = 'extraction_database_fren.csv'\n",
    "output_file = 'organized_extraction_database_fren.csv'\n",
    "\n",
    "total_lignes = supprimer_lignes_vides(input_file, output_file)\n",
    "print(\"Nombre total de lignes dans le fichier final :\", total_lignes)\n"
   ]
  },
  {
   "cell_type": "code",
   "execution_count": 10,
   "id": "bc042d89-a8f2-4e82-b00d-b35fed5c3fda",
   "metadata": {},
   "outputs": [],
   "source": [
    "import pandas as pd\n",
    "\n",
    "# Charger le fichier CSV\n",
    "df = pd.read_csv(\"organized_extraction_database_fren.csv\", encoding='utf-8')\n",
    "\n",
    "# Fusionner les colonnes avec une préférence pour le français, sinon utiliser l'anglais\n",
    "df['ingredients_text'] = df['ingredients_text_fr'].fillna(df['ingredients_text_en'])\n",
    "df['product_name'] = df['product_name_fr'].fillna(df['product_name_en'])\n",
    "\n",
    "# Sélectionner les colonnes d'intérêt (incluez ici toutes les autres colonnes que vous souhaitez conserver)\n",
    "columns_of_interest = [\"code\",'product_name','ingredients_text']  # ajoutez d'autres noms de colonnes ici si nécessaire\n",
    "df_final = df[columns_of_interest]\n",
    "\n",
    "# Sauvegarder dans un nouveau fichier CSV\n",
    "df_final.to_csv(\"combined_extraction_database_fren.csv\", index=False, encoding='utf-8')\n"
   ]
  }
 ],
 "metadata": {
  "kernelspec": {
   "display_name": "ppchem",
   "language": "python",
   "name": "ppchem"
  },
  "language_info": {
   "codemirror_mode": {
    "name": "ipython",
    "version": 3
   },
   "file_extension": ".py",
   "mimetype": "text/x-python",
   "name": "python",
   "nbconvert_exporter": "python",
   "pygments_lexer": "ipython3",
   "version": "3.11.7"
  }
 },
 "nbformat": 4,
 "nbformat_minor": 5
}
