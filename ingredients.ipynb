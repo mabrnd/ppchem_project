{
 "cells": [
  {
   "cell_type": "code",
   "execution_count": null,
   "id": "f12f9a43-92c3-4d43-859b-e91ad06db931",
   "metadata": {},
   "outputs": [],
   "source": [
    "# Objectif : Demander un code barre et renvoyer la liste d'ingrédients et le nom du produit correspondant\n",
    "import pandas as pd\n",
    "import csv\n",
    "\n",
    "def rechercher_ingredients(code_barre, fichier_csv):\n",
    "    try:\n",
    "        df = pd.read_csv(fichier_csv, encoding='utf-8', dtype={'code': str})\n",
    "        row = df[df['code'] == code_barre]\n",
    "        if not row.empty:\n",
    "            ingredients = row['ingredients_text'].iloc[0]  # Utiliser iloc[0] pour extraire le premier élément\n",
    "            return ingredients\n",
    "        else:\n",
    "            return \"Aucun ingrédient trouvé pour ce code-barres.\"\n",
    "    except Exception as e:\n",
    "        return f\"Erreur lors du chargement du fichier ou de la recherche : {e}\"\n",
    "        \n",
    "def rechercher_nom(code_barre, fichier_csv):\n",
    "    try:\n",
    "        df = pd.read_csv(fichier_csv, encoding='utf-8', dtype={'code': str})\n",
    "        row = df[df['code'] == code_barre]\n",
    "        if not row.empty:\n",
    "        \n",
    "            nom = row['product_name'].iloc[0] \n",
    "            return nom\n",
    "        else:\n",
    "            return \"Aucun nom trouvé pour ce code-barres.\"\n",
    "    except Exception as e:\n",
    "        return f\"Erreur lors du chargement du fichier ou de la recherche : {e}\"\n",
    "\n",
    "code_barre_input = input(\"Veuillez entrer un code-barres: \").strip()\n",
    "fichier_csv = \"combined_extraction_database_fren.csv\"\n",
    "ingredients = rechercher_ingredients(code_barre_input, fichier_csv)\n",
    "nom = rechercher_nom(code_barre_input, fichier_csv)\n",
    "print(\"Ingrédients:\", ingredients)\n",
    "print(\"Nom:\", nom)\n"
   ]
  },
  {
   "cell_type": "code",
   "execution_count": null,
   "id": "93a2c63a-0f79-46f3-8ee9-c117086ef514",
   "metadata": {},
   "outputs": [],
   "source": []
  }
 ],
 "metadata": {
  "kernelspec": {
   "display_name": "ppchem",
   "language": "python",
   "name": "ppchem"
  },
  "language_info": {
   "codemirror_mode": {
    "name": "ipython",
    "version": 3
   },
   "file_extension": ".py",
   "mimetype": "text/x-python",
   "name": "python",
   "nbconvert_exporter": "python",
   "pygments_lexer": "ipython3",
   "version": "3.11.7"
  }
 },
 "nbformat": 4,
 "nbformat_minor": 5
}
